{
 "cells": [
  {
   "cell_type": "code",
   "execution_count": 1,
   "metadata": {
    "collapsed": true
   },
   "outputs": [],
   "source": [
    "import numpy as np\n",
    "import seaborn as sns\n",
    "import pandas as pd\n",
    "import matplotlib.pyplot as plt\n",
    "from scipy import stats, integrate\n"
   ]
  },
  {
   "cell_type": "markdown",
   "metadata": {},
   "source": [
    " # Plot settings\n",
    " "
   ]
  },
  {
   "cell_type": "code",
   "execution_count": 2,
   "metadata": {
    "collapsed": true
   },
   "outputs": [],
   "source": [
    "plt.style.available\n",
    "plt.style.use(['classic'])\n",
    "%matplotlib inline"
   ]
  },
  {
   "cell_type": "markdown",
   "metadata": {},
   "source": [
    "# History from 12Mar2017 to 16Mar2017"
   ]
  },
  {
   "cell_type": "code",
   "execution_count": 3,
   "metadata": {
    "collapsed": false
   },
   "outputs": [
    {
     "data": {
      "text/html": [
       "<div>\n",
       "<table border=\"1\" class=\"dataframe\">\n",
       "  <thead>\n",
       "    <tr style=\"text-align: right;\">\n",
       "      <th></th>\n",
       "      <th>Date</th>\n",
       "      <th>Tiker</th>\n",
       "      <th>Price_Close</th>\n",
       "      <th>Position</th>\n",
       "      <th>Market_Value</th>\n",
       "      <th>PL_Cum</th>\n",
       "      <th>Comment</th>\n",
       "    </tr>\n",
       "  </thead>\n",
       "  <tbody>\n",
       "    <tr>\n",
       "      <th>0</th>\n",
       "      <td>2017-03-12</td>\n",
       "      <td>QQQ</td>\n",
       "      <td>131.58900</td>\n",
       "      <td>25</td>\n",
       "      <td>3289.72</td>\n",
       "      <td>0.00</td>\n",
       "      <td>NaN</td>\n",
       "    </tr>\n",
       "    <tr>\n",
       "      <th>1</th>\n",
       "      <td>2017-03-12</td>\n",
       "      <td>TLT</td>\n",
       "      <td>116.71330</td>\n",
       "      <td>30</td>\n",
       "      <td>3501.40</td>\n",
       "      <td>0.00</td>\n",
       "      <td>NaN</td>\n",
       "    </tr>\n",
       "    <tr>\n",
       "      <th>2</th>\n",
       "      <td>2017-03-12</td>\n",
       "      <td>TQQQ</td>\n",
       "      <td>86.36632</td>\n",
       "      <td>38</td>\n",
       "      <td>3281.92</td>\n",
       "      <td>0.00</td>\n",
       "      <td>NaN</td>\n",
       "    </tr>\n",
       "    <tr>\n",
       "      <th>3</th>\n",
       "      <td>2017-03-13</td>\n",
       "      <td>QQQ</td>\n",
       "      <td>131.61000</td>\n",
       "      <td>25</td>\n",
       "      <td>3290.25</td>\n",
       "      <td>0.52</td>\n",
       "      <td>NaN</td>\n",
       "    </tr>\n",
       "    <tr>\n",
       "      <th>4</th>\n",
       "      <td>2017-03-13</td>\n",
       "      <td>TLT</td>\n",
       "      <td>116.51000</td>\n",
       "      <td>30</td>\n",
       "      <td>3495.30</td>\n",
       "      <td>-6.10</td>\n",
       "      <td>NaN</td>\n",
       "    </tr>\n",
       "    <tr>\n",
       "      <th>5</th>\n",
       "      <td>2017-03-13</td>\n",
       "      <td>TQQQ</td>\n",
       "      <td>86.39000</td>\n",
       "      <td>38</td>\n",
       "      <td>3282.82</td>\n",
       "      <td>0.90</td>\n",
       "      <td>NaN</td>\n",
       "    </tr>\n",
       "    <tr>\n",
       "      <th>6</th>\n",
       "      <td>2017-03-14</td>\n",
       "      <td>QQQ</td>\n",
       "      <td>131.29000</td>\n",
       "      <td>25</td>\n",
       "      <td>3282.25</td>\n",
       "      <td>-7.48</td>\n",
       "      <td>NaN</td>\n",
       "    </tr>\n",
       "    <tr>\n",
       "      <th>7</th>\n",
       "      <td>2017-03-14</td>\n",
       "      <td>TLT</td>\n",
       "      <td>117.07000</td>\n",
       "      <td>30</td>\n",
       "      <td>3512.10</td>\n",
       "      <td>10.70</td>\n",
       "      <td>NaN</td>\n",
       "    </tr>\n",
       "    <tr>\n",
       "      <th>8</th>\n",
       "      <td>2017-03-14</td>\n",
       "      <td>TQQQ</td>\n",
       "      <td>85.75000</td>\n",
       "      <td>38</td>\n",
       "      <td>3258.50</td>\n",
       "      <td>-23.42</td>\n",
       "      <td>NaN</td>\n",
       "    </tr>\n",
       "    <tr>\n",
       "      <th>9</th>\n",
       "      <td>2017-03-15</td>\n",
       "      <td>QQQ</td>\n",
       "      <td>132.10000</td>\n",
       "      <td>25</td>\n",
       "      <td>3302.50</td>\n",
       "      <td>12.78</td>\n",
       "      <td>Fed Raises Interest Rates</td>\n",
       "    </tr>\n",
       "    <tr>\n",
       "      <th>10</th>\n",
       "      <td>2017-03-15</td>\n",
       "      <td>TLT</td>\n",
       "      <td>118.50000</td>\n",
       "      <td>30</td>\n",
       "      <td>3555.00</td>\n",
       "      <td>53.60</td>\n",
       "      <td>Fed Raises Interest Rates</td>\n",
       "    </tr>\n",
       "    <tr>\n",
       "      <th>11</th>\n",
       "      <td>2017-03-15</td>\n",
       "      <td>TQQQ</td>\n",
       "      <td>87.25000</td>\n",
       "      <td>38</td>\n",
       "      <td>3315.50</td>\n",
       "      <td>33.58</td>\n",
       "      <td>Fed Raises Interest Rates</td>\n",
       "    </tr>\n",
       "    <tr>\n",
       "      <th>12</th>\n",
       "      <td>2017-03-16</td>\n",
       "      <td>QQQ</td>\n",
       "      <td>132.01000</td>\n",
       "      <td>25</td>\n",
       "      <td>3300.25</td>\n",
       "      <td>10.52</td>\n",
       "      <td>NaN</td>\n",
       "    </tr>\n",
       "    <tr>\n",
       "      <th>13</th>\n",
       "      <td>2017-03-16</td>\n",
       "      <td>TLT</td>\n",
       "      <td>117.90000</td>\n",
       "      <td>30</td>\n",
       "      <td>3537.00</td>\n",
       "      <td>35.60</td>\n",
       "      <td>NaN</td>\n",
       "    </tr>\n",
       "    <tr>\n",
       "      <th>14</th>\n",
       "      <td>2017-03-16</td>\n",
       "      <td>TQQQ</td>\n",
       "      <td>87.20000</td>\n",
       "      <td>38</td>\n",
       "      <td>3313.60</td>\n",
       "      <td>31.68</td>\n",
       "      <td>NaN</td>\n",
       "    </tr>\n",
       "  </tbody>\n",
       "</table>\n",
       "</div>"
      ],
      "text/plain": [
       "         Date Tiker  Price_Close  Position  Market_Value  PL_Cum  \\\n",
       "0  2017-03-12   QQQ    131.58900        25       3289.72    0.00   \n",
       "1  2017-03-12   TLT    116.71330        30       3501.40    0.00   \n",
       "2  2017-03-12  TQQQ     86.36632        38       3281.92    0.00   \n",
       "3  2017-03-13   QQQ    131.61000        25       3290.25    0.52   \n",
       "4  2017-03-13   TLT    116.51000        30       3495.30   -6.10   \n",
       "5  2017-03-13  TQQQ     86.39000        38       3282.82    0.90   \n",
       "6  2017-03-14   QQQ    131.29000        25       3282.25   -7.48   \n",
       "7  2017-03-14   TLT    117.07000        30       3512.10   10.70   \n",
       "8  2017-03-14  TQQQ     85.75000        38       3258.50  -23.42   \n",
       "9  2017-03-15   QQQ    132.10000        25       3302.50   12.78   \n",
       "10 2017-03-15   TLT    118.50000        30       3555.00   53.60   \n",
       "11 2017-03-15  TQQQ     87.25000        38       3315.50   33.58   \n",
       "12 2017-03-16   QQQ    132.01000        25       3300.25   10.52   \n",
       "13 2017-03-16   TLT    117.90000        30       3537.00   35.60   \n",
       "14 2017-03-16  TQQQ     87.20000        38       3313.60   31.68   \n",
       "\n",
       "                      Comment  \n",
       "0                         NaN  \n",
       "1                         NaN  \n",
       "2                         NaN  \n",
       "3                         NaN  \n",
       "4                         NaN  \n",
       "5                         NaN  \n",
       "6                         NaN  \n",
       "7                         NaN  \n",
       "8                         NaN  \n",
       "9   Fed Raises Interest Rates  \n",
       "10  Fed Raises Interest Rates  \n",
       "11  Fed Raises Interest Rates  \n",
       "12                        NaN  \n",
       "13                        NaN  \n",
       "14                        NaN  "
      ]
     },
     "execution_count": 3,
     "metadata": {},
     "output_type": "execute_result"
    }
   ],
   "source": [
    "week1 = pd.read_csv('12.03.2017_16.03.2017.txt', sep=';', decimal=',',error_bad_lines=False)\n",
    "week1['Date'] = week1['Date'].str[:10]\n",
    "week1['Date'] =  pd.to_datetime(week1['Date'], format='%d.%m.%Y')\n",
    "week1"
   ]
  },
  {
   "cell_type": "markdown",
   "metadata": {},
   "source": [
    "# PL detalization"
   ]
  },
  {
   "cell_type": "code",
   "execution_count": 29,
   "metadata": {
    "collapsed": false
   },
   "outputs": [],
   "source": [
    "#Calculate daily Total PL_Com\n",
    "week1_pl = week1\n",
    "week1_pl=week1_pl.drop(['Market_Value', 'Comment','Tiker', 'Price_Close','Position'], axis=1)\n",
    "week1_pl = week1_pl.groupby('Date', as_index=False).sum()\n"
   ]
  },
  {
   "cell_type": "code",
   "execution_count": 27,
   "metadata": {
    "collapsed": false
   },
   "outputs": [],
   "source": [
    "#Calculate daily PL (QQQ)\n",
    "week1_pl_qqq = week1[week1['Tiker'] == 'QQQ']\n",
    "week1_pl_qqq =week1_pl_qqq.drop(['Market_Value', 'Comment','Tiker', 'Price_Close','Position'], axis=1)\n",
    "week1_pl_qqq=week1_pl_qqq.rename(columns = {'PL_Cum':'PL_QQQ'})\n",
    "\n",
    "#Calculate daily PL (TLT)\n",
    "week1_pl_tlt = week1[week1['Tiker'] == 'TLT']\n",
    "week1_pl_tlt =week1_pl_tlt.drop(['Market_Value', 'Comment','Tiker', 'Price_Close','Position'], axis=1)\n",
    "week1_pl_tlt=week1_pl_tlt.rename(columns = {'PL_Cum':'PL_TLT'})\n",
    "\n",
    "#Calculate daily PL (TQQQ)\n",
    "week1_pl_tqqq = week1[week1['Tiker'] == 'TQQQ']\n",
    "week1_pl_tqqq =week1_pl_tqqq.drop(['Market_Value', 'Comment','Tiker', 'Price_Close','Position'], axis=1)\n",
    "week1_pl_tqqq=week1_pl_tqqq.rename(columns = {'PL_Cum':'PL_TQQQ'})\n"
   ]
  },
  {
   "cell_type": "code",
   "execution_count": 31,
   "metadata": {
    "collapsed": false
   },
   "outputs": [
    {
     "data": {
      "text/html": [
       "<div>\n",
       "<table border=\"1\" class=\"dataframe\">\n",
       "  <thead>\n",
       "    <tr style=\"text-align: right;\">\n",
       "      <th></th>\n",
       "      <th>Date</th>\n",
       "      <th>PL_QQQ</th>\n",
       "      <th>PL_TLT</th>\n",
       "      <th>PL_TQQQ</th>\n",
       "      <th>PL_Cum</th>\n",
       "    </tr>\n",
       "  </thead>\n",
       "  <tbody>\n",
       "    <tr>\n",
       "      <th>0</th>\n",
       "      <td>2017-03-12</td>\n",
       "      <td>0.00</td>\n",
       "      <td>0.0</td>\n",
       "      <td>0.00</td>\n",
       "      <td>0.00</td>\n",
       "    </tr>\n",
       "    <tr>\n",
       "      <th>1</th>\n",
       "      <td>2017-03-13</td>\n",
       "      <td>0.52</td>\n",
       "      <td>-6.1</td>\n",
       "      <td>0.90</td>\n",
       "      <td>-4.68</td>\n",
       "    </tr>\n",
       "    <tr>\n",
       "      <th>2</th>\n",
       "      <td>2017-03-14</td>\n",
       "      <td>-7.48</td>\n",
       "      <td>10.7</td>\n",
       "      <td>-23.42</td>\n",
       "      <td>-20.20</td>\n",
       "    </tr>\n",
       "    <tr>\n",
       "      <th>3</th>\n",
       "      <td>2017-03-15</td>\n",
       "      <td>12.78</td>\n",
       "      <td>53.6</td>\n",
       "      <td>33.58</td>\n",
       "      <td>99.96</td>\n",
       "    </tr>\n",
       "    <tr>\n",
       "      <th>4</th>\n",
       "      <td>2017-03-16</td>\n",
       "      <td>10.52</td>\n",
       "      <td>35.6</td>\n",
       "      <td>31.68</td>\n",
       "      <td>77.80</td>\n",
       "    </tr>\n",
       "  </tbody>\n",
       "</table>\n",
       "</div>"
      ],
      "text/plain": [
       "        Date  PL_QQQ  PL_TLT  PL_TQQQ  PL_Cum\n",
       "0 2017-03-12    0.00     0.0     0.00    0.00\n",
       "1 2017-03-13    0.52    -6.1     0.90   -4.68\n",
       "2 2017-03-14   -7.48    10.7   -23.42  -20.20\n",
       "3 2017-03-15   12.78    53.6    33.58   99.96\n",
       "4 2017-03-16   10.52    35.6    31.68   77.80"
      ]
     },
     "execution_count": 31,
     "metadata": {},
     "output_type": "execute_result"
    }
   ],
   "source": [
    "pl = pd.merge(week1_pl_qqq,week1_pl_tlt, on = 'Date')\n",
    "pl = pd.merge(pl,week1_pl_tqqq, on = 'Date')\n",
    "pl = pd.merge(pl,week1_pl, on = 'Date')\n",
    "pl"
   ]
  },
  {
   "cell_type": "markdown",
   "metadata": {},
   "source": [
    "# PL from 12Mar2017 to 16Mar2017"
   ]
  },
  {
   "cell_type": "code",
   "execution_count": 117,
   "metadata": {
    "collapsed": false
   },
   "outputs": [
    {
     "data": {
      "image/png": "[encoded data removed]",
      "text/plain": [
       "<matplotlib.figure.Figure at 0x11e417990>"
      ]
     },
     "metadata": {},
     "output_type": "display_data"
    }
   ],
   "source": [
    "plt.rcParams[\"figure.figsize\"] = (15,5)\n",
    "pl.plot(x='Date', y=['PL_Cum', 'PL_QQQ', 'PL_TLT', 'PL_TQQQ'], marker=\"o\")\n",
    "plt.grid(True)\n",
    "plt.title('Cumulative daily PL')\n",
    "formatter = DateFormatter('%d %b')\n",
    "plt.gcf().axes[0].xaxis.set_major_formatter(formatter)  \n",
    "\n",
    "\n",
    "plt.show()"
   ]
  },
  {
   "cell_type": "markdown",
   "metadata": {},
   "source": [
    "# Market Value from 12Mar2017 to 16Mar2017"
   ]
  },
  {
   "cell_type": "code",
   "execution_count": 137,
   "metadata": {
    "collapsed": false
   },
   "outputs": [
    {
     "data": {
      "text/html": [
       "<div>\n",
       "<table border=\"1\" class=\"dataframe\">\n",
       "  <thead>\n",
       "    <tr style=\"text-align: right;\">\n",
       "      <th></th>\n",
       "      <th>Date</th>\n",
       "      <th>Market_Value</th>\n",
       "      <th>Initial</th>\n",
       "    </tr>\n",
       "  </thead>\n",
       "  <tbody>\n",
       "    <tr>\n",
       "      <th>0</th>\n",
       "      <td>2017-03-12</td>\n",
       "      <td>10073.04</td>\n",
       "      <td>9500</td>\n",
       "    </tr>\n",
       "    <tr>\n",
       "      <th>1</th>\n",
       "      <td>2017-03-13</td>\n",
       "      <td>10068.37</td>\n",
       "      <td>9500</td>\n",
       "    </tr>\n",
       "    <tr>\n",
       "      <th>2</th>\n",
       "      <td>2017-03-14</td>\n",
       "      <td>10052.85</td>\n",
       "      <td>9500</td>\n",
       "    </tr>\n",
       "    <tr>\n",
       "      <th>3</th>\n",
       "      <td>2017-03-15</td>\n",
       "      <td>10173.00</td>\n",
       "      <td>9500</td>\n",
       "    </tr>\n",
       "    <tr>\n",
       "      <th>4</th>\n",
       "      <td>2017-03-16</td>\n",
       "      <td>10150.85</td>\n",
       "      <td>9500</td>\n",
       "    </tr>\n",
       "  </tbody>\n",
       "</table>\n",
       "</div>"
      ],
      "text/plain": [
       "        Date  Market_Value  Initial\n",
       "0 2017-03-12      10073.04     9500\n",
       "1 2017-03-13      10068.37     9500\n",
       "2 2017-03-14      10052.85     9500\n",
       "3 2017-03-15      10173.00     9500\n",
       "4 2017-03-16      10150.85     9500"
      ]
     },
     "execution_count": 137,
     "metadata": {},
     "output_type": "execute_result"
    }
   ],
   "source": [
    "week1_mv = week1\n",
    "week1_mv=week1_mv.drop(['PL_Cum', 'Comment','Tiker', 'Price_Close','Position'], axis=1)\n",
    "week1_mv = week1_mv.groupby('Date', as_index=False).sum()\n",
    "week1_mv['Initial']=9500\n",
    "\n",
    "week1_mv"
   ]
  },
  {
   "cell_type": "code",
   "execution_count": 138,
   "metadata": {
    "collapsed": false
   },
   "outputs": [
    {
     "data": {
      "image/png": "[encoded data removed]",
      "text/plain": [
       "<matplotlib.figure.Figure at 0x11d1ac190>"
      ]
     },
     "metadata": {},
     "output_type": "display_data"
    }
   ],
   "source": [
    "from matplotlib.dates import DateFormatter\n",
    "date_x =week1_mv.Date.values\n",
    "date_x1 = np.arange(np.datetime64('2017-03-12'), np.datetime64('2017-03-17'))\n",
    "ax = plt.rcParams[\"figure.figsize\"] = (15,10)\n",
    "ax = plt.plot(week1_mv.Date.values,week1_mv.Initial.values-73,week1_mv.Date.values, week1_mv.Market_Value.values-73)\n",
    "\n",
    "\n",
    "plt.fill_between(week1_mv.Date.values, week1_mv.Market_Value.values-73, week1_mv.Initial.values,alpha=0.5, color='green')\n",
    "plt.grid(True)\n",
    "\n",
    "formatter = DateFormatter('%d %b')\n",
    "plt.gcf().axes[0].xaxis.set_major_formatter(formatter)  \n",
    "\n"
   ]
  },
  {
   "cell_type": "code",
   "execution_count": null,
   "metadata": {
    "collapsed": true
   },
   "outputs": [],
   "source": []
  }
 ],
 "metadata": {
  "kernelspec": {
   "display_name": "Python 2",
   "language": "python",
   "name": "python2"
  },
  "language_info": {
   "codemirror_mode": {
    "name": "ipython",
    "version": 2
   },
   "file_extension": ".py",
   "mimetype": "text/x-python",
   "name": "python",
   "nbconvert_exporter": "python",
   "pygments_lexer": "ipython2",
   "version": "2.7.13"
  }
 },
 "nbformat": 4,
 "nbformat_minor": 0
}
